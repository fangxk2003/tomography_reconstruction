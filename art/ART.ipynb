{
 "cells": [
  {
   "cell_type": "code",
   "execution_count": 33,
   "id": "90a644df",
   "metadata": {},
   "outputs": [
    {
     "name": "stdout",
     "output_type": "stream",
     "text": [
      "now\n",
      "16384 5120\n",
      "(5120, 1)\n",
      "(16384,)\n"
     ]
    },
    {
     "name": "stderr",
     "output_type": "stream",
     "text": [
      "/Users/fangxk2003/miniconda3/envs/jupyter_env/lib/python3.10/site-packages/skimage/color/colorconv.py:984: RuntimeWarning: divide by zero encountered in matmul\n",
      "  return rgb @ coeffs\n",
      "/Users/fangxk2003/miniconda3/envs/jupyter_env/lib/python3.10/site-packages/skimage/color/colorconv.py:984: RuntimeWarning: overflow encountered in matmul\n",
      "  return rgb @ coeffs\n",
      "/Users/fangxk2003/miniconda3/envs/jupyter_env/lib/python3.10/site-packages/skimage/color/colorconv.py:984: RuntimeWarning: invalid value encountered in matmul\n",
      "  return rgb @ coeffs\n"
     ]
    }
   ],
   "source": [
    "import pandas as pd\n",
    "import numpy as np\n",
    "from sklearn.preprocessing import MinMaxScaler\n",
    "from skimage.transform import resize\n",
    "import matplotlib.pyplot as plt\n",
    "from skimage.data import shepp_logan_phantom\n",
    "import cv2\n",
    "\n",
    "# Load matrix.csv and result.csv\n",
    "print(\"now\")\n",
    "matrix = pd.read_csv('matrix_40d.csv', header=None).values\n",
    "result = pd.read_csv('result_40d.csv', header=None).values\n",
    "N, M = matrix.shape\n",
    "print(N, M)\n",
    "print(result.shape)\n",
    "x = np.zeros(N)\n",
    "print(x.shape)\n",
    "phantom = shepp_logan_phantom()\n",
    "phantom_resized = resize(phantom, (128, 128), mode='reflect', anti_aliasing=True)\n",
    "phantom_vector = phantom_resized.flatten()\n",
    "lr = 0.9\n",
    "iterations = 30\n",
    "directions = 40\n",
    "img_n = 128\n",
    "scaler = MinMaxScaler(feature_range=(0, 255))\n",
    "img = np.zeros((iterations * directions, img_n, img_n), np.uint8)\n",
    "img_3 = np.zeros((iterations * directions, img_n, img_n, 3), np.uint8)\n"
   ]
  },
  {
   "cell_type": "code",
   "execution_count": 34,
   "id": "899089a2",
   "metadata": {},
   "outputs": [
    {
     "name": "stdout",
     "output_type": "stream",
     "text": [
      "MSE: 0.011210862340536292\n",
      "MSE: 0.007369004275568025\n",
      "MSE: 0.00623420033433274\n",
      "MSE: 0.005813688519921442\n",
      "MSE: 0.0056619957013968845\n",
      "MSE: 0.005598241708390754\n",
      "MSE: 0.005564501668914695\n",
      "MSE: 0.005539533530788237\n",
      "MSE: 0.005521537817594035\n",
      "MSE: 0.005507023048557699\n",
      "MSE: 0.005495525842526367\n",
      "MSE: 0.005485745923382711\n",
      "MSE: 0.005477477956067993\n",
      "MSE: 0.005470238402869715\n",
      "MSE: 0.005463895228419817\n",
      "MSE: 0.005458242540520259\n",
      "MSE: 0.005453195841087518\n",
      "MSE: 0.005448626938168959\n",
      "MSE: 0.005444489640327888\n",
      "MSE: 0.005440700736720072\n",
      "MSE: 0.005437228709506374\n",
      "MSE: 0.0054340222582729605\n",
      "MSE: 0.005431056765400489\n",
      "MSE: 0.0054283000512572455\n",
      "MSE: 0.005425733379470854\n",
      "MSE: 0.005423335176185112\n",
      "MSE: 0.005421091568694665\n",
      "MSE: 0.0054189871453897845\n",
      "MSE: 0.00541701152427343\n",
      "MSE: 0.005415153180598813\n"
     ]
    }
   ],
   "source": [
    "x = np.zeros(N)\n",
    "for i in range(iterations):\n",
    "    for rays in range(M):\n",
    "        sum_matrix = np.sum(np.square(matrix[:, rays]))\n",
    "        x += lr * (result[rays] - np.dot(matrix[:, rays], x)) * matrix[:, rays] / sum_matrix\n",
    "        if ((rays + 1) % img_n == 0) : \n",
    "            # truncate the image to 0-255\n",
    "            xx = np.clip(x.reshape(128, 128), 0, 1) * 255\n",
    "            img[i * directions + rays // img_n] = xx.astype(np.uint8)\n",
    "    mse = np.mean(np.square(x - phantom_vector))\n",
    "    print(\"MSE:\", mse)"
   ]
  },
  {
   "cell_type": "code",
   "execution_count": 35,
   "id": "2112c017",
   "metadata": {},
   "outputs": [
    {
     "name": "stdout",
     "output_type": "stream",
     "text": [
      "(1200, 128, 128, 3)\n"
     ]
    }
   ],
   "source": [
    "for i in range(iterations):\n",
    "    for d in range(directions):\n",
    "        # change img[i * directions + d] to 3 channels\n",
    "        img_3[i * directions + d] = cv2.merge([img[i * directions + d]] * 3)\n",
    "        cv2.putText(img_3[i * directions + d],  str(i) + \",\" + str(d), (5, 10), cv2.FONT_HERSHEY_SIMPLEX, 0.3, (0, 0, 255), 1)\n",
    "out = cv2.VideoWriter('output_video.avi', cv2.VideoWriter_fourcc(*'MJPG'), 30, (img_n, img_n))\n",
    "print(img_3.shape)\n",
    "for frame in img_3:\n",
    "    out.write(frame)\n",
    "out.release()"
   ]
  },
  {
   "cell_type": "code",
   "execution_count": 36,
   "id": "ca71925e",
   "metadata": {},
   "outputs": [
    {
     "data": {
      "text/plain": [
       "True"
      ]
     },
     "execution_count": 36,
     "metadata": {},
     "output_type": "execute_result"
    }
   ],
   "source": [
    "cv2.imwrite('last_frame_40d.png', img_3[-1])"
   ]
  }
 ],
 "metadata": {
  "kernelspec": {
   "display_name": "jupyter_env",
   "language": "python",
   "name": "python3"
  },
  "language_info": {
   "codemirror_mode": {
    "name": "ipython",
    "version": 3
   },
   "file_extension": ".py",
   "mimetype": "text/x-python",
   "name": "python",
   "nbconvert_exporter": "python",
   "pygments_lexer": "ipython3",
   "version": "3.10.16"
  }
 },
 "nbformat": 4,
 "nbformat_minor": 5
}
